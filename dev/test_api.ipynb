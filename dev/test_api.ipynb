{
 "cells": [
  {
   "cell_type": "code",
   "execution_count": 1,
   "id": "ba033282-73a5-4f1b-980b-c1f3176dc552",
   "metadata": {
    "tags": []
   },
   "outputs": [],
   "source": [
    "import sys\n",
    "sys.path.insert(0, '../')\n",
    "from api.api import DataAPI"
   ]
  },
  {
   "cell_type": "code",
   "execution_count": 2,
   "id": "c1a99707-71b2-4f28-aff4-b4f9a78f0f36",
   "metadata": {
    "tags": []
   },
   "outputs": [],
   "source": [
    "api = DataAPI(symbols=['AAPL', 'MSFT'])"
   ]
  },
  {
   "cell_type": "code",
   "execution_count": 3,
   "id": "e3a14b31-5a61-4cf5-aac2-bbc16375dba4",
   "metadata": {
    "tags": []
   },
   "outputs": [
    {
     "data": {
      "text/html": [
       "<div>\n",
       "<style scoped>\n",
       "    .dataframe tbody tr th:only-of-type {\n",
       "        vertical-align: middle;\n",
       "    }\n",
       "\n",
       "    .dataframe tbody tr th {\n",
       "        vertical-align: top;\n",
       "    }\n",
       "\n",
       "    .dataframe thead th {\n",
       "        text-align: right;\n",
       "    }\n",
       "</style>\n",
       "<table border=\"1\" class=\"dataframe\">\n",
       "  <thead>\n",
       "    <tr style=\"text-align: right;\">\n",
       "      <th>symbol</th>\n",
       "      <th>AAPL</th>\n",
       "      <th>MSFT</th>\n",
       "    </tr>\n",
       "  </thead>\n",
       "  <tbody>\n",
       "    <tr>\n",
       "      <th>1986-03-13</th>\n",
       "      <td>0.085613</td>\n",
       "      <td>0.060396</td>\n",
       "    </tr>\n",
       "    <tr>\n",
       "      <th>1986-03-14</th>\n",
       "      <td>0.090369</td>\n",
       "      <td>0.062553</td>\n",
       "    </tr>\n",
       "    <tr>\n",
       "      <th>1986-03-17</th>\n",
       "      <td>0.089937</td>\n",
       "      <td>0.063632</td>\n",
       "    </tr>\n",
       "    <tr>\n",
       "      <th>1986-03-18</th>\n",
       "      <td>0.092964</td>\n",
       "      <td>0.062014</td>\n",
       "    </tr>\n",
       "    <tr>\n",
       "      <th>1986-03-19</th>\n",
       "      <td>0.091667</td>\n",
       "      <td>0.060936</td>\n",
       "    </tr>\n",
       "    <tr>\n",
       "      <th>...</th>\n",
       "      <td>...</td>\n",
       "      <td>...</td>\n",
       "    </tr>\n",
       "    <tr>\n",
       "      <th>2023-09-11</th>\n",
       "      <td>179.360001</td>\n",
       "      <td>337.940002</td>\n",
       "    </tr>\n",
       "    <tr>\n",
       "      <th>2023-09-12</th>\n",
       "      <td>176.300003</td>\n",
       "      <td>331.769989</td>\n",
       "    </tr>\n",
       "    <tr>\n",
       "      <th>2023-09-13</th>\n",
       "      <td>174.210007</td>\n",
       "      <td>336.059998</td>\n",
       "    </tr>\n",
       "    <tr>\n",
       "      <th>2023-09-14</th>\n",
       "      <td>175.740005</td>\n",
       "      <td>338.700012</td>\n",
       "    </tr>\n",
       "    <tr>\n",
       "      <th>2023-09-15</th>\n",
       "      <td>175.009995</td>\n",
       "      <td>330.220001</td>\n",
       "    </tr>\n",
       "  </tbody>\n",
       "</table>\n",
       "<p>9454 rows × 2 columns</p>\n",
       "</div>"
      ],
      "text/plain": [
       "symbol            AAPL        MSFT\n",
       "1986-03-13    0.085613    0.060396\n",
       "1986-03-14    0.090369    0.062553\n",
       "1986-03-17    0.089937    0.063632\n",
       "1986-03-18    0.092964    0.062014\n",
       "1986-03-19    0.091667    0.060936\n",
       "...                ...         ...\n",
       "2023-09-11  179.360001  337.940002\n",
       "2023-09-12  176.300003  331.769989\n",
       "2023-09-13  174.210007  336.059998\n",
       "2023-09-14  175.740005  338.700012\n",
       "2023-09-15  175.009995  330.220001\n",
       "\n",
       "[9454 rows x 2 columns]"
      ]
     },
     "execution_count": 3,
     "metadata": {},
     "output_type": "execute_result"
    }
   ],
   "source": [
    "yahoo_prices = api.get_yahoo_prices()\n",
    "yahoo_prices"
   ]
  },
  {
   "cell_type": "code",
   "execution_count": null,
   "id": "ed5d06e3-4f77-4037-abcf-ecc71ed923d6",
   "metadata": {},
   "outputs": [],
   "source": []
  }
 ],
 "metadata": {
  "kernelspec": {
   "display_name": "Python 3 (ipykernel)",
   "language": "python",
   "name": "python3"
  },
  "language_info": {
   "codemirror_mode": {
    "name": "ipython",
    "version": 3
   },
   "file_extension": ".py",
   "mimetype": "text/x-python",
   "name": "python",
   "nbconvert_exporter": "python",
   "pygments_lexer": "ipython3",
   "version": "3.11.0"
  }
 },
 "nbformat": 4,
 "nbformat_minor": 5
}
