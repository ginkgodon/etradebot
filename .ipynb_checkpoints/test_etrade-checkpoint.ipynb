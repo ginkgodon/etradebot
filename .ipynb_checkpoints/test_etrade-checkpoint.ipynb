{
 "cells": [
  {
   "cell_type": "markdown",
   "metadata": {},
   "source": [
    "# Testing ETradeBot"
   ]
  },
  {
   "cell_type": "code",
   "execution_count": 1,
   "metadata": {
    "pycharm": {
     "is_executing": true
    },
    "tags": []
   },
   "outputs": [],
   "source": [
    "import os\n",
    "import ast\n",
    "import json\n",
    "import keyring\n",
    "import pandas as pd\n",
    "from utils import portfolio\n",
    "from etrade.etrade import ETrade\n",
    "from model.model import Model\n",
    "from execute.execute import Execute"
   ]
  },
  {
   "cell_type": "markdown",
   "metadata": {},
   "source": [
    "## Credentials"
   ]
  },
  {
   "cell_type": "code",
   "execution_count": 2,
   "metadata": {},
   "outputs": [],
   "source": [
    "consumer_key = keyring.get_password(\"etrade\", \"consumer_key\")\n",
    "consumer_secret = keyring.get_password(\"etrade\", \"consumer_secret\")\n",
    "sandbox_key = keyring.get_password(\"etrade\", \"sandbox_key\")\n",
    "sandbox_secret = keyring.get_password(\"etrade\", \"sandbox_secret\")\n",
    "web_username = keyring.get_password(\"etrade\", \"web_username\")\n",
    "web_password = keyring.get_password(\"etrade\", \"web_password\")\n",
    "account_id = keyring.get_password(\"etrade\", \"account_id\")\n",
    "cookie = ast.literal_eval(keyring.get_password(\"etrade\", \"cookie\"))"
   ]
  },
  {
   "cell_type": "markdown",
   "metadata": {},
   "source": [
    "## E-Trade API"
   ]
  },
  {
   "cell_type": "code",
   "execution_count": 3,
   "metadata": {},
   "outputs": [],
   "source": [
    "etrade = ETrade(\n",
    "    consumer_key, consumer_secret, web_username, web_password, account_id, cookie, sandbox_key, sandbox_secret, \n",
    "    dev=False, headless=True\n",
    ")"
   ]
  },
  {
   "cell_type": "code",
   "execution_count": 4,
   "metadata": {},
   "outputs": [
    {
     "data": {
      "text/html": [
       "<div>\n",
       "<style scoped>\n",
       "    .dataframe tbody tr th:only-of-type {\n",
       "        vertical-align: middle;\n",
       "    }\n",
       "\n",
       "    .dataframe tbody tr th {\n",
       "        vertical-align: top;\n",
       "    }\n",
       "\n",
       "    .dataframe thead th {\n",
       "        text-align: right;\n",
       "    }\n",
       "</style>\n",
       "<table border=\"1\" class=\"dataframe\">\n",
       "  <thead>\n",
       "    <tr style=\"text-align: right;\">\n",
       "      <th></th>\n",
       "      <th>accountIdKey</th>\n",
       "      <th>accountMode</th>\n",
       "      <th>accountDesc</th>\n",
       "      <th>accountName</th>\n",
       "      <th>accountType</th>\n",
       "      <th>institutionType</th>\n",
       "      <th>accountStatus</th>\n",
       "      <th>closedDate</th>\n",
       "      <th>shareWorksAccount</th>\n",
       "    </tr>\n",
       "    <tr>\n",
       "      <th>accountId</th>\n",
       "      <th></th>\n",
       "      <th></th>\n",
       "      <th></th>\n",
       "      <th></th>\n",
       "      <th></th>\n",
       "      <th></th>\n",
       "      <th></th>\n",
       "      <th></th>\n",
       "      <th></th>\n",
       "    </tr>\n",
       "  </thead>\n",
       "  <tbody>\n",
       "    <tr>\n",
       "      <th>54134394</th>\n",
       "      <td>rET_Y2Zn1COrVwzcy6idvA</td>\n",
       "      <td>CASH</td>\n",
       "      <td>LLC C Corporation</td>\n",
       "      <td></td>\n",
       "      <td>LLC_C_CORP</td>\n",
       "      <td>BROKERAGE</td>\n",
       "      <td>ACTIVE</td>\n",
       "      <td>0</td>\n",
       "      <td>False</td>\n",
       "    </tr>\n",
       "  </tbody>\n",
       "</table>\n",
       "</div>"
      ],
      "text/plain": [
       "                     accountIdKey accountMode        accountDesc accountName  \\\n",
       "accountId                                                                      \n",
       "54134394   rET_Y2Zn1COrVwzcy6idvA        CASH  LLC C Corporation               \n",
       "\n",
       "          accountType institutionType accountStatus  closedDate  \\\n",
       "accountId                                                         \n",
       "54134394   LLC_C_CORP       BROKERAGE        ACTIVE           0   \n",
       "\n",
       "           shareWorksAccount  \n",
       "accountId                     \n",
       "54134394               False  "
      ]
     },
     "execution_count": 4,
     "metadata": {},
     "output_type": "execute_result"
    }
   ],
   "source": [
    "list_accounts = etrade.get_account_list(prints=False)\n",
    "list_accounts"
   ]
  },
  {
   "cell_type": "code",
   "execution_count": 5,
   "metadata": {},
   "outputs": [],
   "source": [
    "if etrade.dev:\n",
    "    account_id_key = 'vQMsebA1H5WltUfDkJP48g'\n",
    "else:\n",
    "    account_id_key = 'rET_Y2Zn1COrVwzcy6idvA'"
   ]
  },
  {
   "cell_type": "code",
   "execution_count": 6,
   "metadata": {},
   "outputs": [
    {
     "data": {
      "text/plain": [
       "{'AccountListResponse': {'Accounts': {'Account': [{'accountId': '54134394',\n",
       "     'accountIdKey': 'rET_Y2Zn1COrVwzcy6idvA',\n",
       "     'accountMode': 'CASH',\n",
       "     'accountDesc': 'LLC C Corporation',\n",
       "     'accountName': '',\n",
       "     'accountType': 'LLC_C_CORP',\n",
       "     'institutionType': 'BROKERAGE',\n",
       "     'accountStatus': 'ACTIVE',\n",
       "     'closedDate': 0,\n",
       "     'shareWorksAccount': False}]}}}"
      ]
     },
     "execution_count": 6,
     "metadata": {},
     "output_type": "execute_result"
    }
   ],
   "source": [
    "etrade.accounts.list_accounts(resp_format='json')"
   ]
  },
  {
   "cell_type": "code",
   "execution_count": 7,
   "metadata": {
    "tags": []
   },
   "outputs": [
    {
     "name": "stdout",
     "output_type": "stream",
     "text": [
      "accountBalance                          -23.03\n",
      "accountDescription                NATHAN RAMOS\n",
      "accountId                             54134394\n",
      "accountMode                             MARGIN\n",
      "accountType                             MARGIN\n",
      "cashAvailableForInvestment                   0\n",
      "cashAvailableForWithdrawal                   0\n",
      "cashBalance                                  0\n",
      "cashBuyingPower                           2261\n",
      "cashCall                                     0\n",
      "dayTraderStatus                         NO_PDT\n",
      "dtCashBuyingPower                            0\n",
      "dtMarginBuyingPower                          0\n",
      "fedCall                                      0\n",
      "fundsForOpenOrdersCash                       0\n",
      "fundsWithheldFromPurchasePower               0\n",
      "fundsWithheldFromWithdrawal                  0\n",
      "houseCall                                    0\n",
      "marginBalance                         -2952.25\n",
      "marginBuyingPower                         4522\n",
      "minEquityCall                                0\n",
      "moneyMktBalance                              0\n",
      "netCash                                   2261\n",
      "netMv                                10003.082\n",
      "netMvLong                            12931.762\n",
      "netMvShort                            -2928.68\n",
      "optionLevel                            LEVEL_2\n",
      "quoteMode                                    1\n",
      "regtEquity                            9985.122\n",
      "regtEquityPercent                    62.931737\n",
      "settledCashForInvestment                     0\n",
      "shortAdjustBalance                     2929.22\n",
      "totalAccountValue                     9980.052\n",
      "totalAvailableForWithdrawal               2261\n",
      "unSettledCashForInvestment                   0\n",
      "Name: BalanceResponse, dtype: object\n"
     ]
    }
   ],
   "source": [
    "account_balance = etrade.get_account_balance(account_id_key, prints=True)"
   ]
  },
  {
   "cell_type": "code",
   "execution_count": 8,
   "metadata": {},
   "outputs": [],
   "source": [
    "try: \n",
    "    orders_list = etrade.get_orders_list(account_id_key, prints=False)\n",
    "    orders_list = orders_list[orders_list['status']=='EXECUTED']\n",
    "    orders_list\n",
    "except ValueError as e:\n",
    "    print(e)"
   ]
  },
  {
   "cell_type": "code",
   "execution_count": 9,
   "metadata": {
    "tags": []
   },
   "outputs": [],
   "source": [
    "# etrade.orders.list_orders(account_id_key, resp_format='json')"
   ]
  },
  {
   "cell_type": "code",
   "execution_count": 10,
   "metadata": {
    "tags": []
   },
   "outputs": [],
   "source": [
    "# etrade.get_market_quote(['AAPL'], prints=False)"
   ]
  },
  {
   "cell_type": "code",
   "execution_count": 11,
   "metadata": {},
   "outputs": [
    {
     "name": "stdout",
     "output_type": "stream",
     "text": [
      "Buying Power: $9,980.05\n"
     ]
    }
   ],
   "source": [
    "buying_power = etrade.get_buying_power(account_id_key, prints=True)"
   ]
  },
  {
   "cell_type": "code",
   "execution_count": 12,
   "metadata": {},
   "outputs": [
    {
     "data": {
      "text/html": [
       "<div>\n",
       "<style scoped>\n",
       "    .dataframe tbody tr th:only-of-type {\n",
       "        vertical-align: middle;\n",
       "    }\n",
       "\n",
       "    .dataframe tbody tr th {\n",
       "        vertical-align: top;\n",
       "    }\n",
       "\n",
       "    .dataframe thead th {\n",
       "        text-align: right;\n",
       "    }\n",
       "</style>\n",
       "<table border=\"1\" class=\"dataframe\">\n",
       "  <thead>\n",
       "    <tr style=\"text-align: right;\">\n",
       "      <th></th>\n",
       "      <th>positionType</th>\n",
       "      <th>quantity</th>\n",
       "      <th>costPerShare</th>\n",
       "      <th>marketValue</th>\n",
       "      <th>totalCost</th>\n",
       "      <th>daysGain</th>\n",
       "      <th>daysGainPct</th>\n",
       "      <th>totalGain</th>\n",
       "      <th>totalGainPct</th>\n",
       "      <th>pctOfPortfolio</th>\n",
       "    </tr>\n",
       "    <tr>\n",
       "      <th>symbolDescription</th>\n",
       "      <th></th>\n",
       "      <th></th>\n",
       "      <th></th>\n",
       "      <th></th>\n",
       "      <th></th>\n",
       "      <th></th>\n",
       "      <th></th>\n",
       "      <th></th>\n",
       "      <th></th>\n",
       "      <th></th>\n",
       "    </tr>\n",
       "  </thead>\n",
       "  <tbody>\n",
       "    <tr>\n",
       "      <th>SPYV</th>\n",
       "      <td>SHORT</td>\n",
       "      <td>-23</td>\n",
       "      <td>$41.66</td>\n",
       "      <td>$-946.22</td>\n",
       "      <td>$-958.16</td>\n",
       "      <td>$-14.95</td>\n",
       "      <td>-1.61%</td>\n",
       "      <td>$11.94</td>\n",
       "      <td>1.25%</td>\n",
       "      <td>-9.48%</td>\n",
       "    </tr>\n",
       "    <tr>\n",
       "      <th>FYX</th>\n",
       "      <td>LONG</td>\n",
       "      <td>11</td>\n",
       "      <td>$86.90</td>\n",
       "      <td>$961.54</td>\n",
       "      <td>$955.90</td>\n",
       "      <td>$12.13</td>\n",
       "      <td>1.28%</td>\n",
       "      <td>$5.64</td>\n",
       "      <td>0.59%</td>\n",
       "      <td>9.63%</td>\n",
       "    </tr>\n",
       "    <tr>\n",
       "      <th>VIOV</th>\n",
       "      <td>LONG</td>\n",
       "      <td>2</td>\n",
       "      <td>$176.25</td>\n",
       "      <td>$353.74</td>\n",
       "      <td>$352.51</td>\n",
       "      <td>$3.46</td>\n",
       "      <td>0.99%</td>\n",
       "      <td>$1.23</td>\n",
       "      <td>0.35%</td>\n",
       "      <td>3.54%</td>\n",
       "    </tr>\n",
       "    <tr>\n",
       "      <th>SPSM</th>\n",
       "      <td>LONG</td>\n",
       "      <td>38</td>\n",
       "      <td>$40.54</td>\n",
       "      <td>$1,545.46</td>\n",
       "      <td>$1,540.52</td>\n",
       "      <td>$17.48</td>\n",
       "      <td>1.14%</td>\n",
       "      <td>$4.94</td>\n",
       "      <td>0.32%</td>\n",
       "      <td>15.49%</td>\n",
       "    </tr>\n",
       "    <tr>\n",
       "      <th>VIOG</th>\n",
       "      <td>LONG</td>\n",
       "      <td>16</td>\n",
       "      <td>$200.41</td>\n",
       "      <td>$3,214.36</td>\n",
       "      <td>$3,206.58</td>\n",
       "      <td>$36.47</td>\n",
       "      <td>1.15%</td>\n",
       "      <td>$7.78</td>\n",
       "      <td>0.24%</td>\n",
       "      <td>32.21%</td>\n",
       "    </tr>\n",
       "    <tr>\n",
       "      <th>PSCD</th>\n",
       "      <td>LONG</td>\n",
       "      <td>19</td>\n",
       "      <td>$93.30</td>\n",
       "      <td>$1,762.10</td>\n",
       "      <td>$1,772.61</td>\n",
       "      <td>$21.20</td>\n",
       "      <td>1.22%</td>\n",
       "      <td>$-10.51</td>\n",
       "      <td>-0.59%</td>\n",
       "      <td>17.66%</td>\n",
       "    </tr>\n",
       "    <tr>\n",
       "      <th>OIH</th>\n",
       "      <td>SHORT</td>\n",
       "      <td>-6</td>\n",
       "      <td>$328.46</td>\n",
       "      <td>$-1,982.46</td>\n",
       "      <td>$-1,970.76</td>\n",
       "      <td>$-26.10</td>\n",
       "      <td>-1.33%</td>\n",
       "      <td>$-11.70</td>\n",
       "      <td>-0.59%</td>\n",
       "      <td>-19.86%</td>\n",
       "    </tr>\n",
       "    <tr>\n",
       "      <th>QQQ</th>\n",
       "      <td>LONG</td>\n",
       "      <td>17</td>\n",
       "      <td>$302.33</td>\n",
       "      <td>$5,094.56</td>\n",
       "      <td>$5,139.61</td>\n",
       "      <td>$103.19</td>\n",
       "      <td>2.07%</td>\n",
       "      <td>$-45.05</td>\n",
       "      <td>-0.88%</td>\n",
       "      <td>51.05%</td>\n",
       "    </tr>\n",
       "  </tbody>\n",
       "</table>\n",
       "</div>"
      ],
      "text/plain": [
       "                  positionType quantity costPerShare marketValue   totalCost  \\\n",
       "symbolDescription                                                              \n",
       "SPYV                     SHORT      -23       $41.66    $-946.22    $-958.16   \n",
       "FYX                       LONG       11       $86.90     $961.54     $955.90   \n",
       "VIOV                      LONG        2      $176.25     $353.74     $352.51   \n",
       "SPSM                      LONG       38       $40.54   $1,545.46   $1,540.52   \n",
       "VIOG                      LONG       16      $200.41   $3,214.36   $3,206.58   \n",
       "PSCD                      LONG       19       $93.30   $1,762.10   $1,772.61   \n",
       "OIH                      SHORT       -6      $328.46  $-1,982.46  $-1,970.76   \n",
       "QQQ                       LONG       17      $302.33   $5,094.56   $5,139.61   \n",
       "\n",
       "                  daysGain daysGainPct totalGain totalGainPct pctOfPortfolio  \n",
       "symbolDescription                                                             \n",
       "SPYV               $-14.95      -1.61%    $11.94        1.25%         -9.48%  \n",
       "FYX                 $12.13       1.28%     $5.64        0.59%          9.63%  \n",
       "VIOV                 $3.46       0.99%     $1.23        0.35%          3.54%  \n",
       "SPSM                $17.48       1.14%     $4.94        0.32%         15.49%  \n",
       "VIOG                $36.47       1.15%     $7.78        0.24%         32.21%  \n",
       "PSCD                $21.20       1.22%   $-10.51       -0.59%         17.66%  \n",
       "OIH                $-26.10      -1.33%   $-11.70       -0.59%        -19.86%  \n",
       "QQQ                $103.19       2.07%   $-45.05       -0.88%         51.05%  "
      ]
     },
     "execution_count": 12,
     "metadata": {},
     "output_type": "execute_result"
    }
   ],
   "source": [
    "portfolio_data = etrade.get_portfolio_data(account_id_key, sort_by='totalGainPct', ascending=False)\n",
    "portfolio.format_portfolio_data(portfolio_data)"
   ]
  },
  {
   "cell_type": "code",
   "execution_count": 13,
   "metadata": {},
   "outputs": [
    {
     "data": {
      "text/plain": [
       "marketValue     $10,003.08\n",
       "totalCost       $10,038.82\n",
       "daysGain           $152.89\n",
       "totalGain          $-35.74\n",
       "daysGainPct          1.52%\n",
       "totalGainPct        -0.36%\n",
       "dtype: object"
      ]
     },
     "execution_count": 13,
     "metadata": {},
     "output_type": "execute_result"
    }
   ],
   "source": [
    "portfolio.calculate_aggregate_portfolio(portfolio_data)"
   ]
  },
  {
   "cell_type": "code",
   "execution_count": 14,
   "metadata": {},
   "outputs": [
    {
     "data": {
      "text/html": [
       "<div>\n",
       "<style scoped>\n",
       "    .dataframe tbody tr th:only-of-type {\n",
       "        vertical-align: middle;\n",
       "    }\n",
       "\n",
       "    .dataframe tbody tr th {\n",
       "        vertical-align: top;\n",
       "    }\n",
       "\n",
       "    .dataframe thead th {\n",
       "        text-align: right;\n",
       "    }\n",
       "</style>\n",
       "<table border=\"1\" class=\"dataframe\">\n",
       "  <thead>\n",
       "    <tr style=\"text-align: right;\">\n",
       "      <th></th>\n",
       "      <th>marketValue</th>\n",
       "      <th>totalCost</th>\n",
       "      <th>daysGain</th>\n",
       "      <th>totalGain</th>\n",
       "      <th>daysGainPct</th>\n",
       "      <th>totalGainPct</th>\n",
       "    </tr>\n",
       "    <tr>\n",
       "      <th>positionType</th>\n",
       "      <th></th>\n",
       "      <th></th>\n",
       "      <th></th>\n",
       "      <th></th>\n",
       "      <th></th>\n",
       "      <th></th>\n",
       "    </tr>\n",
       "  </thead>\n",
       "  <tbody>\n",
       "    <tr>\n",
       "      <th>LONG</th>\n",
       "      <td>$12,931.76</td>\n",
       "      <td>$12,967.74</td>\n",
       "      <td>$193.94</td>\n",
       "      <td>$-35.97</td>\n",
       "      <td>1.93%</td>\n",
       "      <td>-0.36%</td>\n",
       "    </tr>\n",
       "    <tr>\n",
       "      <th>SHORT</th>\n",
       "      <td>$-2,928.68</td>\n",
       "      <td>$-2,928.91</td>\n",
       "      <td>$-41.05</td>\n",
       "      <td>$0.24</td>\n",
       "      <td>-0.41%</td>\n",
       "      <td>0.00%</td>\n",
       "    </tr>\n",
       "  </tbody>\n",
       "</table>\n",
       "</div>"
      ],
      "text/plain": [
       "             marketValue   totalCost daysGain totalGain daysGainPct  \\\n",
       "positionType                                                          \n",
       "LONG          $12,931.76  $12,967.74  $193.94   $-35.97       1.93%   \n",
       "SHORT         $-2,928.68  $-2,928.91  $-41.05     $0.24      -0.41%   \n",
       "\n",
       "             totalGainPct  \n",
       "positionType               \n",
       "LONG               -0.36%  \n",
       "SHORT               0.00%  "
      ]
     },
     "execution_count": 14,
     "metadata": {},
     "output_type": "execute_result"
    }
   ],
   "source": [
    "portfolio.calculate_groupby_portfolio(portfolio_data)"
   ]
  },
  {
   "cell_type": "markdown",
   "metadata": {},
   "source": [
    "## Fake Data"
   ]
  },
  {
   "cell_type": "code",
   "execution_count": 15,
   "metadata": {},
   "outputs": [],
   "source": [
    "from utils.fake_data import create_fake_balances, create_fake_portfolio"
   ]
  },
  {
   "cell_type": "code",
   "execution_count": 16,
   "metadata": {},
   "outputs": [],
   "source": [
    "fake_balances = create_fake_balances(num_fake_accounts=1)\n",
    "# fake_balances"
   ]
  },
  {
   "cell_type": "code",
   "execution_count": 17,
   "metadata": {},
   "outputs": [],
   "source": [
    "fake_portfolio = create_fake_portfolio(buying_power, prints=False)\n",
    "# fake_portfolio"
   ]
  },
  {
   "cell_type": "markdown",
   "metadata": {},
   "source": [
    "## Execute"
   ]
  },
  {
   "cell_type": "code",
   "execution_count": 18,
   "metadata": {},
   "outputs": [],
   "source": [
    "execute = Execute(etrade)"
   ]
  },
  {
   "cell_type": "code",
   "execution_count": 19,
   "metadata": {},
   "outputs": [
    {
     "name": "stdout",
     "output_type": "stream",
     "text": [
      "Trade Instructions:\n",
      "QQQ      $5,094.56\n",
      "VIOG     $3,214.36\n",
      "PSCD     $1,762.10\n",
      "SPSM     $1,504.79\n",
      "FYX        $961.54\n",
      "VIOV       $353.74\n",
      "SPYV      $-905.08\n",
      "OIH     $-1,982.46\n",
      "Name: Trade Amounts, dtype: object\n",
      "\n",
      "Position Value: $10,003.55\n",
      "Leftover: $58.77\n",
      "\n",
      "QQQ      17\n",
      "VIOG     16\n",
      "PSCD     19\n",
      "SPSM     37\n",
      "FYX      11\n",
      "VIOV      2\n",
      "OIH      -6\n",
      "SPYV    -22\n",
      "Name: Shares, dtype: object\n"
     ]
    }
   ],
   "source": [
    "new_allocation = execute.calculate_shares(portfolio_data.pctOfPortfolio, buying_power, reinvest=True, prints=True)"
   ]
  },
  {
   "cell_type": "markdown",
   "metadata": {},
   "source": [
    "Setting preview=False will send real trade instructions to E-Trade for execution. Use with caution. "
   ]
  },
  {
   "cell_type": "code",
   "execution_count": 21,
   "metadata": {},
   "outputs": [
    {
     "data": {
      "text/html": [
       "<div>\n",
       "<style scoped>\n",
       "    .dataframe tbody tr th:only-of-type {\n",
       "        vertical-align: middle;\n",
       "    }\n",
       "\n",
       "    .dataframe tbody tr th {\n",
       "        vertical-align: top;\n",
       "    }\n",
       "\n",
       "    .dataframe thead th {\n",
       "        text-align: right;\n",
       "    }\n",
       "</style>\n",
       "<table border=\"1\" class=\"dataframe\">\n",
       "  <thead>\n",
       "    <tr style=\"text-align: right;\">\n",
       "      <th></th>\n",
       "      <th>orderAction</th>\n",
       "      <th>priceType</th>\n",
       "      <th>quantity</th>\n",
       "      <th>orderTerm</th>\n",
       "      <th>marketSession</th>\n",
       "    </tr>\n",
       "    <tr>\n",
       "      <th>symbol</th>\n",
       "      <th></th>\n",
       "      <th></th>\n",
       "      <th></th>\n",
       "      <th></th>\n",
       "      <th></th>\n",
       "    </tr>\n",
       "  </thead>\n",
       "  <tbody>\n",
       "    <tr>\n",
       "      <th>SPSM</th>\n",
       "      <td>SELL</td>\n",
       "      <td>MARKET</td>\n",
       "      <td>1</td>\n",
       "      <td>GOOD_FOR_DAY</td>\n",
       "      <td>REGULAR</td>\n",
       "    </tr>\n",
       "    <tr>\n",
       "      <th>SPYV</th>\n",
       "      <td>BUY_TO_COVER</td>\n",
       "      <td>MARKET</td>\n",
       "      <td>1</td>\n",
       "      <td>GOOD_FOR_DAY</td>\n",
       "      <td>REGULAR</td>\n",
       "    </tr>\n",
       "  </tbody>\n",
       "</table>\n",
       "</div>"
      ],
      "text/plain": [
       "         orderAction priceType  quantity     orderTerm marketSession\n",
       "symbol                                                              \n",
       "SPSM            SELL    MARKET         1  GOOD_FOR_DAY       REGULAR\n",
       "SPYV    BUY_TO_COVER    MARKET         1  GOOD_FOR_DAY       REGULAR"
      ]
     },
     "execution_count": 21,
     "metadata": {},
     "output_type": "execute_result"
    }
   ],
   "source": [
    "place_trades = execute.execute_trades(portfolio_data, new_allocation, account_id_key, preview=True, prints=False)\n",
    "place_trades"
   ]
  },
  {
   "cell_type": "markdown",
   "metadata": {},
   "source": [
    "# Testing"
   ]
  },
  {
   "cell_type": "code",
   "execution_count": 22,
   "metadata": {},
   "outputs": [
    {
     "data": {
      "text/html": [
       "<div>\n",
       "<style scoped>\n",
       "    .dataframe tbody tr th:only-of-type {\n",
       "        vertical-align: middle;\n",
       "    }\n",
       "\n",
       "    .dataframe tbody tr th {\n",
       "        vertical-align: top;\n",
       "    }\n",
       "\n",
       "    .dataframe thead th {\n",
       "        text-align: right;\n",
       "    }\n",
       "</style>\n",
       "<table border=\"1\" class=\"dataframe\">\n",
       "  <thead>\n",
       "    <tr style=\"text-align: right;\">\n",
       "      <th></th>\n",
       "      <th>accountIdKey</th>\n",
       "      <th>accountMode</th>\n",
       "      <th>accountDesc</th>\n",
       "      <th>accountName</th>\n",
       "      <th>accountType</th>\n",
       "      <th>institutionType</th>\n",
       "      <th>accountStatus</th>\n",
       "      <th>closedDate</th>\n",
       "      <th>shareWorksAccount</th>\n",
       "    </tr>\n",
       "    <tr>\n",
       "      <th>accountId</th>\n",
       "      <th></th>\n",
       "      <th></th>\n",
       "      <th></th>\n",
       "      <th></th>\n",
       "      <th></th>\n",
       "      <th></th>\n",
       "      <th></th>\n",
       "      <th></th>\n",
       "      <th></th>\n",
       "    </tr>\n",
       "  </thead>\n",
       "  <tbody>\n",
       "    <tr>\n",
       "      <th>54134394</th>\n",
       "      <td>rET_Y2Zn1COrVwzcy6idvA</td>\n",
       "      <td>CASH</td>\n",
       "      <td>LLC C Corporation</td>\n",
       "      <td></td>\n",
       "      <td>LLC_C_CORP</td>\n",
       "      <td>BROKERAGE</td>\n",
       "      <td>ACTIVE</td>\n",
       "      <td>0</td>\n",
       "      <td>False</td>\n",
       "    </tr>\n",
       "  </tbody>\n",
       "</table>\n",
       "</div>"
      ],
      "text/plain": [
       "                     accountIdKey accountMode        accountDesc accountName  \\\n",
       "accountId                                                                      \n",
       "54134394   rET_Y2Zn1COrVwzcy6idvA        CASH  LLC C Corporation               \n",
       "\n",
       "          accountType institutionType accountStatus  closedDate  \\\n",
       "accountId                                                         \n",
       "54134394   LLC_C_CORP       BROKERAGE        ACTIVE           0   \n",
       "\n",
       "           shareWorksAccount  \n",
       "accountId                     \n",
       "54134394               False  "
      ]
     },
     "execution_count": 22,
     "metadata": {},
     "output_type": "execute_result"
    }
   ],
   "source": [
    "etrade.get_account_list()"
   ]
  },
  {
   "cell_type": "code",
   "execution_count": null,
   "metadata": {},
   "outputs": [],
   "source": []
  }
 ],
 "metadata": {
  "kernelspec": {
   "display_name": "Python 3 (ipykernel)",
   "language": "python",
   "name": "python3"
  },
  "language_info": {
   "codemirror_mode": {
    "name": "ipython",
    "version": 3
   },
   "file_extension": ".py",
   "mimetype": "text/x-python",
   "name": "python",
   "nbconvert_exporter": "python",
   "pygments_lexer": "ipython3",
   "version": "3.11.0"
  }
 },
 "nbformat": 4,
 "nbformat_minor": 4
}
