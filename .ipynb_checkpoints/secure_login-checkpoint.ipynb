{
 "cells": [
  {
   "cell_type": "code",
   "execution_count": 1,
   "id": "1fdd7f3a-9fae-4255-bf7b-73ccfa1ebc88",
   "metadata": {
    "tags": []
   },
   "outputs": [],
   "source": [
    "import os\n",
    "import json\n",
    "import subprocess\n",
    "import pykeepass\n",
    "from google.oauth2.service_account import Credentials\n",
    "from googleapiclient.discovery import build"
   ]
  },
  {
   "cell_type": "code",
   "execution_count": 8,
   "id": "eb875436-8c4a-4f53-8e1c-d315b8ce1350",
   "metadata": {
    "tags": []
   },
   "outputs": [
    {
     "ename": "NameError",
     "evalue": "name '__file__' is not defined",
     "output_type": "error",
     "traceback": [
      "\u001b[1;31m---------------------------------------------------------------------------\u001b[0m",
      "\u001b[1;31mNameError\u001b[0m                                 Traceback (most recent call last)",
      "Cell \u001b[1;32mIn[8], line 6\u001b[0m\n\u001b[0;32m      2\u001b[0m encrypted_file_name \u001b[38;5;241m=\u001b[39m \u001b[38;5;124m'\u001b[39m\u001b[38;5;124mcredentials.txt.gpg\u001b[39m\u001b[38;5;124m'\u001b[39m\n\u001b[0;32m      4\u001b[0m \u001b[38;5;66;03m# Set the path to the directory where the decrypted file will be saved\u001b[39;00m\n\u001b[0;32m      5\u001b[0m \u001b[38;5;66;03m# decrypted_dir_path = 'path/to/decrypted/directory/'\u001b[39;00m\n\u001b[1;32m----> 6\u001b[0m decrypted_dir_path \u001b[38;5;241m=\u001b[39m os\u001b[38;5;241m.\u001b[39mpath\u001b[38;5;241m.\u001b[39mjoin(os\u001b[38;5;241m.\u001b[39mpath\u001b[38;5;241m.\u001b[39mdirname(\u001b[38;5;18;43m__file__\u001b[39;49m), \u001b[38;5;124m'\u001b[39m\u001b[38;5;124mdecrypted/\u001b[39m\u001b[38;5;124m'\u001b[39m)\n\u001b[0;32m      8\u001b[0m \u001b[38;5;66;03m# Set the ID of the Google Drive folder containing the encrypted file\u001b[39;00m\n\u001b[0;32m      9\u001b[0m folder_id \u001b[38;5;241m=\u001b[39m \u001b[38;5;124m'\u001b[39m\u001b[38;5;124m1bTV8KeTApXgu4gTDTxGGXvy6KeNKxW88\u001b[39m\u001b[38;5;124m'\u001b[39m\n",
      "\u001b[1;31mNameError\u001b[0m: name '__file__' is not defined"
     ]
    }
   ],
   "source": [
    "# Set the name of the encrypted credentials file\n",
    "encrypted_file_name = 'credentials.txt.gpg'\n",
    "\n",
    "# Set the path to the directory where the decrypted file will be saved\n",
    "# decrypted_dir_path = 'path/to/decrypted/directory/'\n",
    "decrypted_dir_path = os.path.join('H:/decrypted/')\n",
    "\n",
    "# Set the ID of the Google Drive folder containing the encrypted file\n",
    "folder_id = '1bTV8KeTApXgu4gTDTxGGXvy6KeNKxW88'\n",
    "\n",
    "# Set the credentials for your Google Drive API service account\n",
    "creds = Credentials.from_service_account_file('H:/My Drive/etradebot-372904-3004813c7de7.json')\n",
    "\n",
    "# Set up the Google Drive API client\n",
    "drive_service = build('drive', 'v3', credentials=creds)\n",
    "\n",
    "# Download the encrypted file from Google Drive\n",
    "file_list = drive_service.files().list(q=f\"'{folder_id}' in parents and name='{encrypted_file_name}' and trashed = false\",\n",
    "                                        fields='files(id, name)').execute().get('files', [])\n",
    "\n",
    "if file_list:\n",
    "    file_id = file_list[0]['id']\n",
    "    file_name = file_list[0]['name']\n",
    "    \n",
    "    file_path = os.path.join(decrypted_dir_path, file_name)\n",
    "    \n",
    "    request = drive_service.files().get_media(fileId=file_id)\n",
    "    \n",
    "    with open(file_path, 'wb') as f:\n",
    "        f.write(request.execute())\n",
    "    \n",
    "    # Get the passphrase for the GPG encryption from KeePass\n",
    "    kdbx_path = 'H:/My Drive/kee_pass/etradebot.kdbx'\n",
    "    # kdbx_pass = 'your_kdbx_password'\n",
    "    with open('H:/My Drive/etradebot-372904-3004813c7de7.json') as f:\n",
    "        credentials_dict = json.load(f)\n",
    "    kdbx_pass = credentials_dict['kdbx_pass']\n",
    "    kdbx_key = pykeepass.PyKeePass(kdbx_path, password=kdbx_pass)\n",
    "    passphrase = kdbx_key.find_entries_by_title('GPG Encrypted Credentials Folder Passphrase')[0].password\n",
    "    \n",
    "    # Decrypt the encrypted file using Gpg4win\n",
    "    subprocess.call(['gpg', '--batch', '--yes', '--passphrase', passphrase, '-o', decrypted_dir_path + 'credentials.txt', file_path])\n",
    "    \n",
    "    # Read the decrypted credentials from the file\n",
    "    with open(decrypted_dir_path + 'credentials.txt', 'r') as f:\n",
    "        credentials = f.read().splitlines()\n",
    "else:\n",
    "    print('No files found.')\n"
   ]
  },
  {
   "cell_type": "code",
   "execution_count": 5,
   "id": "662d15e6-c08c-4e3a-9d84-0e93e2915195",
   "metadata": {
    "tags": []
   },
   "outputs": [],
   "source": [
    "with open('H:/My Drive/etradebot-372904-3004813c7de7.json') as f:\n",
    "    credentials_dict = json.load(f)\n",
    "kdbx_pass = credentials_dict['kdbx_pass']"
   ]
  },
  {
   "cell_type": "code",
   "execution_count": 6,
   "id": "504666ba-6b88-4a69-89f1-f49a064f620a",
   "metadata": {
    "tags": []
   },
   "outputs": [],
   "source": [
    "kdbx_pass = credentials_dict['kdbx_pass']"
   ]
  },
  {
   "cell_type": "code",
   "execution_count": 7,
   "id": "2ced7083-6df8-4d3f-bf27-2bb0dff2b587",
   "metadata": {
    "tags": []
   },
   "outputs": [
    {
     "data": {
      "text/plain": [
       "'iloveEtrade1987$#'"
      ]
     },
     "execution_count": 7,
     "metadata": {},
     "output_type": "execute_result"
    }
   ],
   "source": [
    "kdbx_pass"
   ]
  },
  {
   "cell_type": "code",
   "execution_count": 9,
   "id": "f3550653-bb6b-4fce-99a7-6a9eb81323bc",
   "metadata": {
    "tags": []
   },
   "outputs": [
    {
     "ename": "NameError",
     "evalue": "name '__file__' is not defined",
     "output_type": "error",
     "traceback": [
      "\u001b[1;31m---------------------------------------------------------------------------\u001b[0m",
      "\u001b[1;31mNameError\u001b[0m                                 Traceback (most recent call last)",
      "Cell \u001b[1;32mIn[9], line 1\u001b[0m\n\u001b[1;32m----> 1\u001b[0m \u001b[38;5;18;43m__file__\u001b[39;49m\n",
      "\u001b[1;31mNameError\u001b[0m: name '__file__' is not defined"
     ]
    }
   ],
   "source": [
    "__file__"
   ]
  },
  {
   "cell_type": "code",
   "execution_count": null,
   "id": "d3d07752-522b-4be8-bba7-f8a315fed8d3",
   "metadata": {},
   "outputs": [],
   "source": []
  }
 ],
 "metadata": {
  "kernelspec": {
   "display_name": "Python 3 (ipykernel)",
   "language": "python",
   "name": "python3"
  },
  "language_info": {
   "codemirror_mode": {
    "name": "ipython",
    "version": 3
   },
   "file_extension": ".py",
   "mimetype": "text/x-python",
   "name": "python",
   "nbconvert_exporter": "python",
   "pygments_lexer": "ipython3",
   "version": "3.11.0"
  }
 },
 "nbformat": 4,
 "nbformat_minor": 5
}
