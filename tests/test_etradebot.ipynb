{
 "cells": [
  {
   "cell_type": "markdown",
   "id": "16a67d93-6557-45c7-83d6-b76cbe44f97c",
   "metadata": {},
   "source": [
    "# Test ETradeBot"
   ]
  },
  {
   "cell_type": "code",
   "execution_count": 1,
   "id": "050d79dc-71f5-4a6c-b529-61aeeccf4826",
   "metadata": {
    "tags": []
   },
   "outputs": [],
   "source": [
    "import ast\n",
    "import sys\n",
    "import keyring"
   ]
  },
  {
   "cell_type": "code",
   "execution_count": 2,
   "id": "736e2cae-f2db-4d37-9404-d74b30de7022",
   "metadata": {},
   "outputs": [],
   "source": [
    "sys.path.insert(0, '../')\n",
    "from strategies.strategy import Strategy\n",
    "from etrade.etrade import ETrade\n",
    "from execute.execute import Execute\n",
    "from bot import Bot"
   ]
  },
  {
   "cell_type": "markdown",
   "id": "0b63f59d-8586-44b5-80b7-7d0a283ad64c",
   "metadata": {},
   "source": [
    "## Initialize"
   ]
  },
  {
   "cell_type": "markdown",
   "id": "b689547c-f2c3-4ad7-86d6-f0d877b115b8",
   "metadata": {},
   "source": [
    "Log in to E-Trade, authenticate account, and initialize API objects."
   ]
  },
  {
   "cell_type": "code",
   "execution_count": 3,
   "id": "02d9a3b2-b35d-4020-b7cc-8c39edbb8eb2",
   "metadata": {
    "tags": []
   },
   "outputs": [],
   "source": [
    "# Retrieve credentials from keyring\n",
    "consumer_key = keyring.get_password(\"etrade\", \"consumer_key\")\n",
    "consumer_secret = keyring.get_password(\"etrade\", \"consumer_secret\")\n",
    "sandbox_key = keyring.get_password(\"etrade\", \"sandbox_key\")\n",
    "sandbox_secret = keyring.get_password(\"etrade\", \"sandbox_secret\")\n",
    "web_username = keyring.get_password(\"etrade\", \"web_username\")\n",
    "web_password = keyring.get_password(\"etrade\", \"web_password\")\n",
    "account_id = keyring.get_password(\"etrade\", \"account_id\")\n",
    "etrade_cookie = ast.literal_eval(keyring.get_password(\"etrade\", \"cookie\"))\n",
    "account_id_key = keyring.get_password(\"etrade\", \"account_id_key\")"
   ]
  },
  {
   "cell_type": "code",
   "execution_count": 4,
   "id": "47100d76-dde5-464b-86b1-450e2c7089b9",
   "metadata": {
    "tags": []
   },
   "outputs": [],
   "source": [
    "# Define the strategy name\n",
    "strategy_name = 'example_strategy'"
   ]
  },
  {
   "cell_type": "code",
   "execution_count": 5,
   "id": "a438135c-b46d-4420-9ab9-f6d14c52e9fc",
   "metadata": {
    "tags": []
   },
   "outputs": [],
   "source": [
    "# Configuration\n",
    "dev=False  # Set to False for production, True for sandbox\n",
    "headless=True  # Set to False to show browser window, True to hide\n",
    "browser='chrome'  # Set to 'chrome' or 'edge'\n",
    "preview=True  # Set to False to execute trades, True to preview\n",
    "prints=True  # Set to True to print information to console"
   ]
  },
  {
   "cell_type": "code",
   "execution_count": null,
   "id": "42dac1b9-d15b-41bb-b553-61da626f734e",
   "metadata": {
    "tags": []
   },
   "outputs": [],
   "source": [
    "# Initialize API objects\n",
    "etrade = ETrade(\n",
    "    consumer_key, consumer_secret, web_username, web_password, account_id, etrade_cookie,\n",
    "    sandbox_key, sandbox_secret, dev, headless, browser\n",
    ")\n",
    "strategy = Strategy(prints, strategy_name)\n",
    "execute = Execute(etrade)"
   ]
  },
  {
   "cell_type": "markdown",
   "id": "a14b3080-9fdc-4aab-a4ee-6c27b180c894",
   "metadata": {},
   "source": [
    "## Strategy"
   ]
  },
  {
   "cell_type": "markdown",
   "id": "7cffc6b5-1be4-484a-bcb1-cac33e16c5e9",
   "metadata": {},
   "source": [
    "Run the custom strategy."
   ]
  },
  {
   "cell_type": "code",
   "execution_count": null,
   "id": "b6b3f530-0020-473c-a0b4-1c0a27edff41",
   "metadata": {
    "tags": []
   },
   "outputs": [],
   "source": [
    "new_portfolio = strategy.run_strategy()"
   ]
  },
  {
   "cell_type": "code",
   "execution_count": null,
   "id": "e8a8c002-7c43-423d-8f67-e2269fec9f56",
   "metadata": {
    "tags": []
   },
   "outputs": [],
   "source": [
    "new_portfolio"
   ]
  },
  {
   "cell_type": "markdown",
   "id": "fdfc8a83-30ca-4cf2-8356-806ad303bf76",
   "metadata": {},
   "source": [
    "## Current Portfolio"
   ]
  },
  {
   "cell_type": "markdown",
   "id": "9eed9592-bcf0-4555-b1df-c364920cc776",
   "metadata": {},
   "source": [
    "Get the current portfolio and buying power of the account from E-Tade."
   ]
  },
  {
   "cell_type": "code",
   "execution_count": null,
   "id": "b07d554f-4696-4673-84c0-528c5e111ec2",
   "metadata": {
    "tags": []
   },
   "outputs": [],
   "source": [
    "# Get current portfolio\n",
    "current_portfolio = etrade.get_portfolio_data(account_id_key)[[\n",
    "    'pctOfPortfolio', 'quantity', 'positionType'\n",
    "]]\n",
    "current_portfolio"
   ]
  },
  {
   "cell_type": "code",
   "execution_count": null,
   "id": "de4f804d-8c26-4789-aa98-856b7f150f2c",
   "metadata": {
    "tags": []
   },
   "outputs": [],
   "source": [
    "# Get buying power\n",
    "buying_power = etrade.get_buying_power(account_id_key, prints=prints)"
   ]
  },
  {
   "cell_type": "markdown",
   "id": "a57ce14d-0ab6-4160-b030-fbdd51d6dbe4",
   "metadata": {},
   "source": [
    "## Implement Strategy"
   ]
  },
  {
   "cell_type": "markdown",
   "id": "10529f79-b1f2-4344-b0ba-b781aaf6c9da",
   "metadata": {},
   "source": [
    "Generate trades which will implement the custom strategy given the current portfolio. "
   ]
  },
  {
   "cell_type": "code",
   "execution_count": null,
   "id": "b6911add-3bab-40f0-93d5-9ba689be6256",
   "metadata": {
    "tags": []
   },
   "outputs": [],
   "source": [
    "# Calculate new portfolio shares\n",
    "new_portfolio_shares = execute.calculate_shares(new_portfolio, buying_power, prints=prints)"
   ]
  },
  {
   "cell_type": "code",
   "execution_count": null,
   "id": "aa837896-a0c4-410c-bdb2-dbc751386cef",
   "metadata": {
    "tags": []
   },
   "outputs": [],
   "source": [
    "# Preview or execute trades\n",
    "print('')\n",
    "if preview:\n",
    "    print('Previewing trades...')\n",
    "else:\n",
    "    print('Executing trades...')\n",
    "place_order = execute.execute_trades(\n",
    "    current_portfolio, new_portfolio_shares, account_id_key, preview, prints\n",
    ")"
   ]
  },
  {
   "cell_type": "code",
   "execution_count": null,
   "id": "7ddb0a0b-48e9-4e62-9a43-1e93d0db1bb6",
   "metadata": {
    "tags": []
   },
   "outputs": [],
   "source": [
    "place_order"
   ]
  },
  {
   "cell_type": "code",
   "execution_count": null,
   "id": "1c8bb0c2-0504-47a7-8ac4-0bb7897dd47c",
   "metadata": {},
   "outputs": [],
   "source": []
  }
 ],
 "metadata": {
  "kernelspec": {
   "display_name": "Python 3 (ipykernel)",
   "language": "python",
   "name": "python3"
  },
  "language_info": {
   "codemirror_mode": {
    "name": "ipython",
    "version": 3
   },
   "file_extension": ".py",
   "mimetype": "text/x-python",
   "name": "python",
   "nbconvert_exporter": "python",
   "pygments_lexer": "ipython3",
   "version": "3.11.0"
  }
 },
 "nbformat": 4,
 "nbformat_minor": 5
}
