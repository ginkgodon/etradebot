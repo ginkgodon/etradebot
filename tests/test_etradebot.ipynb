{
 "cells": [
  {
   "cell_type": "markdown",
   "id": "16a67d93-6557-45c7-83d6-b76cbe44f97c",
   "metadata": {},
   "source": [
    "# Test ETradeBot"
   ]
  },
  {
   "cell_type": "code",
   "execution_count": 19,
   "id": "050d79dc-71f5-4a6c-b529-61aeeccf4826",
   "metadata": {
    "tags": []
   },
   "outputs": [],
   "source": [
    "import ast\n",
    "import sys\n",
    "import keyring"
   ]
  },
  {
   "cell_type": "code",
   "execution_count": 20,
   "id": "736e2cae-f2db-4d37-9404-d74b30de7022",
   "metadata": {},
   "outputs": [],
   "source": [
    "sys.path.insert(0, '../')\n",
    "from strategies.strategy import Strategy\n",
    "from etrade.etrade import ETrade\n",
    "from execute.execute import Execute\n",
    "from bot import Bot"
   ]
  },
  {
   "cell_type": "markdown",
   "id": "0b63f59d-8586-44b5-80b7-7d0a283ad64c",
   "metadata": {},
   "source": [
    "## Authentication"
   ]
  },
  {
   "cell_type": "code",
   "execution_count": 3,
   "id": "02d9a3b2-b35d-4020-b7cc-8c39edbb8eb2",
   "metadata": {
    "tags": []
   },
   "outputs": [],
   "source": [
    "# Retrieve credentials from keyring\n",
    "consumer_key = keyring.get_password(\"etrade\", \"consumer_key\")\n",
    "consumer_secret = keyring.get_password(\"etrade\", \"consumer_secret\")\n",
    "sandbox_key = keyring.get_password(\"etrade\", \"sandbox_key\")\n",
    "sandbox_secret = keyring.get_password(\"etrade\", \"sandbox_secret\")\n",
    "web_username = keyring.get_password(\"etrade\", \"web_username\")\n",
    "web_password = keyring.get_password(\"etrade\", \"web_password\")\n",
    "account_id = keyring.get_password(\"etrade\", \"account_id\")\n",
    "etrade_cookie = ast.literal_eval(keyring.get_password(\"etrade\", \"cookie\"))\n",
    "account_id_key = keyring.get_password(\"etrade\", \"account_id_key\")"
   ]
  },
  {
   "cell_type": "code",
   "execution_count": 24,
   "id": "fce716a0-d86b-4682-856d-1065f2c0d8d0",
   "metadata": {
    "tags": []
   },
   "outputs": [
    {
     "name": "stdout",
     "output_type": "stream",
     "text": [
      "Consumer key: 0ee920d4cf28d0733965b3b0d1e0fd35\n",
      "Consumer secret: e89d034b79ee59bb0cb37b5e5d8efba0003142215195ff704717e8e305f70029\n",
      "Sandbox key: 0a621bc4756c47385eee930f6d95d8a4\n",
      "Sandbox secret: 0dc682564f7f21d379ab01d173bad474e47e216efd5c60021f4c2ac913037696\n",
      "Web usernam: betapeg\n",
      "Web password: e#u.fgfE4KW6kGB\n",
      "Account ID: 54134394\n",
      "ETrade cookie: {'name': 'SWH', 'value': 'ETWLCUST1-be5fbc48-91fb', 'domain': '.etrade.com', 'secure': True, 'httpOnly': True}\n",
      "Account ID key: rET_Y2Zn1COrVwzcy6idvA\n"
     ]
    }
   ],
   "source": [
    "prints = True\n",
    "if prints:\n",
    "    print('Consumer key: {}'.format(consumer_key))\n",
    "    print('Consumer secret: {}'.format(consumer_secret))\n",
    "    print('Sandbox key: {}'.format(sandbox_key))\n",
    "    print('Sandbox secret: {}'.format(sandbox_secret))\n",
    "    print('Web usernam: {}'.format(web_username))\n",
    "    print('Web password: {}'.format(web_password))\n",
    "    print('Account ID: {}'.format(account_id))\n",
    "    print('ETrade cookie: {}'.format(etrade_cookie))\n",
    "    print('Account ID key: {}'.format(account_id_key))"
   ]
  },
  {
   "cell_type": "code",
   "execution_count": 4,
   "id": "47100d76-dde5-464b-86b1-450e2c7089b9",
   "metadata": {
    "tags": []
   },
   "outputs": [],
   "source": [
    "# Define the strategy name\n",
    "strategy_name = 'example_strategy'"
   ]
  },
  {
   "cell_type": "code",
   "execution_count": 5,
   "id": "a438135c-b46d-4420-9ab9-f6d14c52e9fc",
   "metadata": {
    "tags": []
   },
   "outputs": [],
   "source": [
    "# Configuration\n",
    "dev=False  # Set to False for production, True for sandbox\n",
    "headless=True  # Set to False to show browser window, True to hide\n",
    "browser='chrome'  # Set to 'chrome' or 'edge'\n",
    "preview=True  # Set to False to execute trades, True to preview\n",
    "prints=True  # Set to True to print information to console"
   ]
  },
  {
   "cell_type": "code",
   "execution_count": 6,
   "id": "42dac1b9-d15b-41bb-b553-61da626f734e",
   "metadata": {
    "tags": []
   },
   "outputs": [],
   "source": [
    "# Initialize API objects\n",
    "etrade = ETrade(\n",
    "    consumer_key, consumer_secret, web_username, web_password, account_id, etrade_cookie,\n",
    "    sandbox_key, sandbox_secret, dev, headless, browser\n",
    ")\n",
    "strategy = Strategy(prints, strategy_name)\n",
    "execute = Execute(etrade)"
   ]
  },
  {
   "cell_type": "markdown",
   "id": "a14b3080-9fdc-4aab-a4ee-6c27b180c894",
   "metadata": {},
   "source": [
    "## Strategy"
   ]
  },
  {
   "cell_type": "code",
   "execution_count": 7,
   "id": "b6b3f530-0020-473c-a0b4-1c0a27edff41",
   "metadata": {
    "tags": []
   },
   "outputs": [
    {
     "name": "stdout",
     "output_type": "stream",
     "text": [
      "------------------------------------\n",
      "Risk Free Rate: 3.49%\n",
      "\n",
      "Maximum Sharpe Portfolio:\n",
      "Sharpe Ratio: 0.6244\n",
      "\n",
      "Weights:\n",
      "SPY    30.00%\n",
      "HYG    30.00%\n",
      "TIP    19.27%\n",
      "TLT    15.22%\n",
      "VNQ     5.15%\n",
      "Name: Maximum Sharpe Portfolio, dtype: object\n",
      "\n",
      "Results:\n",
      "Expected_Return         8.91%\n",
      "Expected Volatility     8.68%\n",
      "Sharpe_Ratio           0.6244\n",
      "Name: Results, dtype: object\n",
      "\n",
      "Long/Short Ratio:\n",
      "Portfolio weights sum: 99.64%\n",
      "Long weights sum: 99.64%\n",
      "Short weights sum: 0.0%\n"
     ]
    }
   ],
   "source": [
    "new_portfolio = strategy.run_strategy()"
   ]
  },
  {
   "cell_type": "code",
   "execution_count": 18,
   "id": "e8a8c002-7c43-423d-8f67-e2269fec9f56",
   "metadata": {
    "tags": []
   },
   "outputs": [
    {
     "data": {
      "text/plain": [
       "SPY    0.3000\n",
       "HYG    0.3000\n",
       "TIP    0.1927\n",
       "TLT    0.1522\n",
       "VNQ    0.0515\n",
       "Name: Maximum Sharpe Portfolio, dtype: float64"
      ]
     },
     "execution_count": 18,
     "metadata": {},
     "output_type": "execute_result"
    }
   ],
   "source": [
    "new_portfolio"
   ]
  },
  {
   "cell_type": "markdown",
   "id": "fdfc8a83-30ca-4cf2-8356-806ad303bf76",
   "metadata": {},
   "source": [
    "## Current Portfolio"
   ]
  },
  {
   "cell_type": "code",
   "execution_count": 11,
   "id": "b07d554f-4696-4673-84c0-528c5e111ec2",
   "metadata": {
    "tags": []
   },
   "outputs": [
    {
     "data": {
      "text/html": [
       "<div>\n",
       "<style scoped>\n",
       "    .dataframe tbody tr th:only-of-type {\n",
       "        vertical-align: middle;\n",
       "    }\n",
       "\n",
       "    .dataframe tbody tr th {\n",
       "        vertical-align: top;\n",
       "    }\n",
       "\n",
       "    .dataframe thead th {\n",
       "        text-align: right;\n",
       "    }\n",
       "</style>\n",
       "<table border=\"1\" class=\"dataframe\">\n",
       "  <thead>\n",
       "    <tr style=\"text-align: right;\">\n",
       "      <th></th>\n",
       "      <th>pctOfPortfolio</th>\n",
       "      <th>quantity</th>\n",
       "      <th>positionType</th>\n",
       "    </tr>\n",
       "    <tr>\n",
       "      <th>symbolDescription</th>\n",
       "      <th></th>\n",
       "      <th></th>\n",
       "      <th></th>\n",
       "    </tr>\n",
       "  </thead>\n",
       "  <tbody>\n",
       "    <tr>\n",
       "      <th>OIH</th>\n",
       "      <td>-0.136460</td>\n",
       "      <td>-5</td>\n",
       "      <td>SHORT</td>\n",
       "    </tr>\n",
       "    <tr>\n",
       "      <th>VIOV</th>\n",
       "      <td>0.532872</td>\n",
       "      <td>67</td>\n",
       "      <td>LONG</td>\n",
       "    </tr>\n",
       "    <tr>\n",
       "      <th>IJT</th>\n",
       "      <td>-0.151577</td>\n",
       "      <td>-14</td>\n",
       "      <td>SHORT</td>\n",
       "    </tr>\n",
       "    <tr>\n",
       "      <th>PSCD</th>\n",
       "      <td>0.183159</td>\n",
       "      <td>21</td>\n",
       "      <td>LONG</td>\n",
       "    </tr>\n",
       "    <tr>\n",
       "      <th>VIOG</th>\n",
       "      <td>0.345203</td>\n",
       "      <td>37</td>\n",
       "      <td>LONG</td>\n",
       "    </tr>\n",
       "    <tr>\n",
       "      <th>SPSM</th>\n",
       "      <td>0.163663</td>\n",
       "      <td>44</td>\n",
       "      <td>LONG</td>\n",
       "    </tr>\n",
       "    <tr>\n",
       "      <th>FYX</th>\n",
       "      <td>0.071438</td>\n",
       "      <td>9</td>\n",
       "      <td>LONG</td>\n",
       "    </tr>\n",
       "  </tbody>\n",
       "</table>\n",
       "</div>"
      ],
      "text/plain": [
       "                   pctOfPortfolio  quantity positionType\n",
       "symbolDescription                                       \n",
       "OIH                     -0.136460        -5        SHORT\n",
       "VIOV                     0.532872        67         LONG\n",
       "IJT                     -0.151577       -14        SHORT\n",
       "PSCD                     0.183159        21         LONG\n",
       "VIOG                     0.345203        37         LONG\n",
       "SPSM                     0.163663        44         LONG\n",
       "FYX                      0.071438         9         LONG"
      ]
     },
     "execution_count": 11,
     "metadata": {},
     "output_type": "execute_result"
    }
   ],
   "source": [
    "# Get current portfolio\n",
    "current_portfolio = etrade.get_portfolio_data(account_id_key)[[\n",
    "    'pctOfPortfolio', 'quantity', 'positionType'\n",
    "]]\n",
    "current_portfolio"
   ]
  },
  {
   "cell_type": "code",
   "execution_count": 13,
   "id": "de4f804d-8c26-4789-aa98-856b7f150f2c",
   "metadata": {
    "tags": []
   },
   "outputs": [
    {
     "name": "stdout",
     "output_type": "stream",
     "text": [
      "\n",
      "Buying Power: $10,154.26\n"
     ]
    }
   ],
   "source": [
    "# Get buying power\n",
    "buying_power = etrade.get_buying_power(account_id_key, prints=prints)"
   ]
  },
  {
   "cell_type": "markdown",
   "id": "a57ce14d-0ab6-4160-b030-fbdd51d6dbe4",
   "metadata": {},
   "source": [
    "## Implement Strategy"
   ]
  },
  {
   "cell_type": "code",
   "execution_count": 14,
   "id": "b6911add-3bab-40f0-93d5-9ba689be6256",
   "metadata": {
    "tags": []
   },
   "outputs": [
    {
     "name": "stdout",
     "output_type": "stream",
     "text": [
      "\n",
      "Trade Instructions:\n",
      "HYG    $3,022.00\n",
      "SPY    $2,865.73\n",
      "TIP    $1,984.50\n",
      "TLT    $1,595.55\n",
      "VNQ      $581.28\n",
      "Name: Trade Amounts, dtype: object\n",
      "\n",
      "Position Value: $10,049.06\n",
      "Leftover: $105.20\n",
      "\n",
      "SPY     7\n",
      "HYG    40\n",
      "TIP    18\n",
      "TLT    15\n",
      "VNQ     7\n",
      "Name: Shares, dtype: object\n"
     ]
    }
   ],
   "source": [
    "# Calculate new portfolio shares\n",
    "new_portfolio_shares = execute.calculate_shares(new_portfolio, buying_power, prints=prints)"
   ]
  },
  {
   "cell_type": "code",
   "execution_count": 16,
   "id": "aa837896-a0c4-410c-bdb2-dbc751386cef",
   "metadata": {
    "tags": []
   },
   "outputs": [
    {
     "name": "stdout",
     "output_type": "stream",
     "text": [
      "\n",
      "Previewing trades...\n",
      "BUY_TO_COVER -5 shares of OIH\n",
      "SELL 67 shares of VIOV\n",
      "BUY_TO_COVER -14 shares of IJT\n",
      "SELL 21 shares of PSCD\n",
      "SELL 37 shares of VIOG\n",
      "SELL 44 shares of SPSM\n",
      "SELL 9 shares of FYX\n",
      "BUY 7 shares of SPY\n",
      "BUY 40 shares of HYG\n",
      "BUY 18 shares of TIP\n",
      "BUY 15 shares of TLT\n",
      "BUY 7 shares of VNQ\n"
     ]
    }
   ],
   "source": [
    "# Execute trades\n",
    "print('')\n",
    "if preview:\n",
    "    print('Previewing trades...')\n",
    "else:\n",
    "    print('Executing trades...')\n",
    "place_order = execute.execute_trades(\n",
    "    current_portfolio, new_portfolio_shares, account_id_key, preview, prints\n",
    ")"
   ]
  },
  {
   "cell_type": "code",
   "execution_count": 17,
   "id": "7ddb0a0b-48e9-4e62-9a43-1e93d0db1bb6",
   "metadata": {
    "tags": []
   },
   "outputs": [
    {
     "data": {
      "text/html": [
       "<div>\n",
       "<style scoped>\n",
       "    .dataframe tbody tr th:only-of-type {\n",
       "        vertical-align: middle;\n",
       "    }\n",
       "\n",
       "    .dataframe tbody tr th {\n",
       "        vertical-align: top;\n",
       "    }\n",
       "\n",
       "    .dataframe thead th {\n",
       "        text-align: right;\n",
       "    }\n",
       "</style>\n",
       "<table border=\"1\" class=\"dataframe\">\n",
       "  <thead>\n",
       "    <tr style=\"text-align: right;\">\n",
       "      <th></th>\n",
       "      <th>orderAction</th>\n",
       "      <th>priceType</th>\n",
       "      <th>quantity</th>\n",
       "      <th>orderTerm</th>\n",
       "      <th>marketSession</th>\n",
       "    </tr>\n",
       "    <tr>\n",
       "      <th>symbol</th>\n",
       "      <th></th>\n",
       "      <th></th>\n",
       "      <th></th>\n",
       "      <th></th>\n",
       "      <th></th>\n",
       "    </tr>\n",
       "  </thead>\n",
       "  <tbody>\n",
       "    <tr>\n",
       "      <th>OIH</th>\n",
       "      <td>BUY_TO_COVER</td>\n",
       "      <td>MARKET</td>\n",
       "      <td>5</td>\n",
       "      <td>GOOD_FOR_DAY</td>\n",
       "      <td>REGULAR</td>\n",
       "    </tr>\n",
       "    <tr>\n",
       "      <th>VIOV</th>\n",
       "      <td>SELL</td>\n",
       "      <td>MARKET</td>\n",
       "      <td>67</td>\n",
       "      <td>GOOD_FOR_DAY</td>\n",
       "      <td>REGULAR</td>\n",
       "    </tr>\n",
       "    <tr>\n",
       "      <th>IJT</th>\n",
       "      <td>BUY_TO_COVER</td>\n",
       "      <td>MARKET</td>\n",
       "      <td>14</td>\n",
       "      <td>GOOD_FOR_DAY</td>\n",
       "      <td>REGULAR</td>\n",
       "    </tr>\n",
       "    <tr>\n",
       "      <th>PSCD</th>\n",
       "      <td>SELL</td>\n",
       "      <td>MARKET</td>\n",
       "      <td>21</td>\n",
       "      <td>GOOD_FOR_DAY</td>\n",
       "      <td>REGULAR</td>\n",
       "    </tr>\n",
       "    <tr>\n",
       "      <th>VIOG</th>\n",
       "      <td>SELL</td>\n",
       "      <td>MARKET</td>\n",
       "      <td>37</td>\n",
       "      <td>GOOD_FOR_DAY</td>\n",
       "      <td>REGULAR</td>\n",
       "    </tr>\n",
       "    <tr>\n",
       "      <th>SPSM</th>\n",
       "      <td>SELL</td>\n",
       "      <td>MARKET</td>\n",
       "      <td>44</td>\n",
       "      <td>GOOD_FOR_DAY</td>\n",
       "      <td>REGULAR</td>\n",
       "    </tr>\n",
       "    <tr>\n",
       "      <th>FYX</th>\n",
       "      <td>SELL</td>\n",
       "      <td>MARKET</td>\n",
       "      <td>9</td>\n",
       "      <td>GOOD_FOR_DAY</td>\n",
       "      <td>REGULAR</td>\n",
       "    </tr>\n",
       "    <tr>\n",
       "      <th>SPY</th>\n",
       "      <td>BUY</td>\n",
       "      <td>MARKET</td>\n",
       "      <td>7</td>\n",
       "      <td>GOOD_FOR_DAY</td>\n",
       "      <td>REGULAR</td>\n",
       "    </tr>\n",
       "    <tr>\n",
       "      <th>HYG</th>\n",
       "      <td>BUY</td>\n",
       "      <td>MARKET</td>\n",
       "      <td>40</td>\n",
       "      <td>GOOD_FOR_DAY</td>\n",
       "      <td>REGULAR</td>\n",
       "    </tr>\n",
       "    <tr>\n",
       "      <th>TIP</th>\n",
       "      <td>BUY</td>\n",
       "      <td>MARKET</td>\n",
       "      <td>18</td>\n",
       "      <td>GOOD_FOR_DAY</td>\n",
       "      <td>REGULAR</td>\n",
       "    </tr>\n",
       "    <tr>\n",
       "      <th>TLT</th>\n",
       "      <td>BUY</td>\n",
       "      <td>MARKET</td>\n",
       "      <td>15</td>\n",
       "      <td>GOOD_FOR_DAY</td>\n",
       "      <td>REGULAR</td>\n",
       "    </tr>\n",
       "    <tr>\n",
       "      <th>VNQ</th>\n",
       "      <td>BUY</td>\n",
       "      <td>MARKET</td>\n",
       "      <td>7</td>\n",
       "      <td>GOOD_FOR_DAY</td>\n",
       "      <td>REGULAR</td>\n",
       "    </tr>\n",
       "  </tbody>\n",
       "</table>\n",
       "</div>"
      ],
      "text/plain": [
       "         orderAction priceType  quantity     orderTerm marketSession\n",
       "symbol                                                              \n",
       "OIH     BUY_TO_COVER    MARKET         5  GOOD_FOR_DAY       REGULAR\n",
       "VIOV            SELL    MARKET        67  GOOD_FOR_DAY       REGULAR\n",
       "IJT     BUY_TO_COVER    MARKET        14  GOOD_FOR_DAY       REGULAR\n",
       "PSCD            SELL    MARKET        21  GOOD_FOR_DAY       REGULAR\n",
       "VIOG            SELL    MARKET        37  GOOD_FOR_DAY       REGULAR\n",
       "SPSM            SELL    MARKET        44  GOOD_FOR_DAY       REGULAR\n",
       "FYX             SELL    MARKET         9  GOOD_FOR_DAY       REGULAR\n",
       "SPY              BUY    MARKET         7  GOOD_FOR_DAY       REGULAR\n",
       "HYG              BUY    MARKET        40  GOOD_FOR_DAY       REGULAR\n",
       "TIP              BUY    MARKET        18  GOOD_FOR_DAY       REGULAR\n",
       "TLT              BUY    MARKET        15  GOOD_FOR_DAY       REGULAR\n",
       "VNQ              BUY    MARKET         7  GOOD_FOR_DAY       REGULAR"
      ]
     },
     "execution_count": 17,
     "metadata": {},
     "output_type": "execute_result"
    }
   ],
   "source": [
    "place_order"
   ]
  },
  {
   "cell_type": "code",
   "execution_count": null,
   "id": "1c8bb0c2-0504-47a7-8ac4-0bb7897dd47c",
   "metadata": {},
   "outputs": [],
   "source": []
  }
 ],
 "metadata": {
  "kernelspec": {
   "display_name": "Python 3 (ipykernel)",
   "language": "python",
   "name": "python3"
  },
  "language_info": {
   "codemirror_mode": {
    "name": "ipython",
    "version": 3
   },
   "file_extension": ".py",
   "mimetype": "text/x-python",
   "name": "python",
   "nbconvert_exporter": "python",
   "pygments_lexer": "ipython3",
   "version": "3.11.0"
  }
 },
 "nbformat": 4,
 "nbformat_minor": 5
}
