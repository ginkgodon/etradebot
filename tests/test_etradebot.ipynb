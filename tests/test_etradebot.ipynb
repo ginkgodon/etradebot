{
 "cells": [
  {
   "cell_type": "markdown",
   "id": "16a67d93-6557-45c7-83d6-b76cbe44f97c",
   "metadata": {},
   "source": [
    "# Test ETradeBot"
   ]
  },
  {
   "cell_type": "code",
   "execution_count": 1,
   "id": "050d79dc-71f5-4a6c-b529-61aeeccf4826",
   "metadata": {
    "tags": []
   },
   "outputs": [],
   "source": [
    "import ast\n",
    "import sys\n",
    "import keyring"
   ]
  },
  {
   "cell_type": "code",
   "execution_count": 2,
   "id": "736e2cae-f2db-4d37-9404-d74b30de7022",
   "metadata": {},
   "outputs": [],
   "source": [
    "sys.path.insert(0, '../')\n",
    "from strategies.strategy import Strategy\n",
    "from etrade.etrade import ETrade\n",
    "from execute.execute import Execute\n",
    "from bot import Bot"
   ]
  },
  {
   "cell_type": "markdown",
   "id": "0b63f59d-8586-44b5-80b7-7d0a283ad64c",
   "metadata": {},
   "source": [
    "## Authentication"
   ]
  },
  {
   "cell_type": "code",
   "execution_count": 3,
   "id": "02d9a3b2-b35d-4020-b7cc-8c39edbb8eb2",
   "metadata": {
    "tags": []
   },
   "outputs": [],
   "source": [
    "# Retrieve credentials from keyring\n",
    "consumer_key = keyring.get_password(\"etrade\", \"consumer_key\")\n",
    "consumer_secret = keyring.get_password(\"etrade\", \"consumer_secret\")\n",
    "sandbox_key = keyring.get_password(\"etrade\", \"sandbox_key\")\n",
    "sandbox_secret = keyring.get_password(\"etrade\", \"sandbox_secret\")\n",
    "web_username = keyring.get_password(\"etrade\", \"web_username\")\n",
    "web_password = keyring.get_password(\"etrade\", \"web_password\")\n",
    "account_id = keyring.get_password(\"etrade\", \"account_id\")\n",
    "etrade_cookie = ast.literal_eval(keyring.get_password(\"etrade\", \"cookie\"))\n",
    "account_id_key = keyring.get_password(\"etrade\", \"account_id_key\")"
   ]
  },
  {
   "cell_type": "code",
   "execution_count": 5,
   "id": "47100d76-dde5-464b-86b1-450e2c7089b9",
   "metadata": {
    "tags": []
   },
   "outputs": [],
   "source": [
    "# Define the strategy name\n",
    "strategy_name = 'cape_strategy'"
   ]
  },
  {
   "cell_type": "code",
   "execution_count": 6,
   "id": "a438135c-b46d-4420-9ab9-f6d14c52e9fc",
   "metadata": {
    "tags": []
   },
   "outputs": [],
   "source": [
    "# Configuration\n",
    "dev=False  # Set to False for production, True for sandbox\n",
    "headless=True  # Set to False to show browser window, True to hide\n",
    "browser='chrome'  # Set to 'chrome' or 'edge'\n",
    "preview=True  # Set to False to execute trades, True to preview\n",
    "prints=True  # Set to True to print information to console"
   ]
  },
  {
   "cell_type": "code",
   "execution_count": 7,
   "id": "42dac1b9-d15b-41bb-b553-61da626f734e",
   "metadata": {
    "tags": []
   },
   "outputs": [],
   "source": [
    "# Initialize API objects\n",
    "etrade = ETrade(\n",
    "    consumer_key, consumer_secret, web_username, web_password, account_id, etrade_cookie,\n",
    "    sandbox_key, sandbox_secret, dev, headless, browser\n",
    ")\n",
    "strategy = Strategy(prints, strategy_name)\n",
    "execute = Execute(etrade)"
   ]
  },
  {
   "cell_type": "markdown",
   "id": "a14b3080-9fdc-4aab-a4ee-6c27b180c894",
   "metadata": {},
   "source": [
    "## Strategy"
   ]
  },
  {
   "cell_type": "code",
   "execution_count": 8,
   "id": "b6b3f530-0020-473c-a0b4-1c0a27edff41",
   "metadata": {
    "tags": []
   },
   "outputs": [
    {
     "name": "stdout",
     "output_type": "stream",
     "text": [
      "------------------------------------\n",
      "Risk Free Rate: 3.34%\n",
      "\n",
      "Market Cap ($Millions):\n",
      "IJR     $65,270.56\n",
      "IVE     $24,296.00\n",
      "SPYV    $14,531.98\n",
      "IUSV    $13,173.88\n",
      "IJS      $6,831.28\n",
      "SPSM     $4,953.58\n",
      "IJT      $4,903.15\n",
      "SLYV     $3,809.86\n",
      "VOOV     $3,172.67\n",
      "OIH      $2,400.88\n",
      "SLYG     $2,324.20\n",
      "VIOO     $2,218.23\n",
      "SLY      $1,695.18\n",
      "VIOV     $1,265.76\n",
      "FYX        $785.47\n",
      "VIOG       $506.40\n",
      "PSCD        $27.79\n",
      "Name: CUR_MKT_CAP, dtype: object\n",
      "\n",
      "VIF Tickers:\n",
      "TICKER\n",
      "OIH      2.36\n",
      "PSCD     4.39\n",
      "SPYV     5.00\n",
      "VIOV    23.44\n",
      "VIOG    23.69\n",
      "SPSM    29.99\n",
      "FYX     32.32\n",
      "Name: VIF Factor, dtype: float64\n",
      "\n",
      "Investor Views:\n",
      "TICKER\n",
      "VIOV     23.39%\n",
      "PSCD     23.03%\n",
      "FYX      21.78%\n",
      "SPSM     21.78%\n",
      "VIOG     19.57%\n",
      "SPYV     -0.85%\n",
      "OIH     -11.73%\n",
      "Name: Investor Views, dtype: object\n",
      "\n",
      "View Confidences:\n",
      "TICKER\n",
      "VIOV    73.60%\n",
      "FYX     64.98%\n",
      "SPSM    64.98%\n",
      "VIOG    62.82%\n",
      "PSCD    57.29%\n",
      "SPYV    48.32%\n",
      "OIH     32.48%\n",
      "Name: Confidences, dtype: object\n",
      "Market Symbol: SPY US Equity\n",
      "Market Name: SPDR S&P 500 ETF Trust\n",
      "\n",
      "Market Prices:\n",
      "date\n",
      "2013-07-09    $137.96\n",
      "2013-07-10    $138.01\n",
      "2013-07-11    $139.89\n",
      "2013-07-12    $139.95\n",
      "2013-07-15    $140.49\n",
      "               ...   \n",
      "2023-03-29    $401.35\n",
      "2023-03-30    $403.70\n",
      "2023-03-31    $409.39\n",
      "2023-04-03    $410.95\n",
      "2023-04-04    $408.67\n",
      "Name: SPDR S&P 500 ETF Trust, Length: 2453, dtype: object\n",
      "\n",
      "Market Implied Risk Aversion:\n",
      "Delta: 3.03\n",
      "Delta:\n",
      "3.03\n",
      "\n",
      "Prior Expected Returns:\n",
      "OIH     21.87%\n",
      "FYX     17.53%\n",
      "PSCD    17.49%\n",
      "SLYV    17.15%\n",
      "IJS     17.09%\n",
      "VIOV    16.97%\n",
      "IJR     16.77%\n",
      "VIOO    16.75%\n",
      "SPSM    16.73%\n",
      "IJT     16.72%\n",
      "SLY     16.71%\n",
      "SLYG    16.53%\n",
      "VIOG    16.49%\n",
      "IUSV    13.59%\n",
      "IVE     13.47%\n",
      "VOOV    13.41%\n",
      "SPYV    13.39%\n",
      "dtype: object\n",
      "\n",
      "Posterior Expected Returns:\n",
      "PSCD    21.91%\n",
      "FYX     19.89%\n",
      "VIOV    19.38%\n",
      "SPSM    19.12%\n",
      "VIOG    19.05%\n",
      "SLYV    17.15%\n",
      "IJS     17.09%\n",
      "IJR     16.77%\n",
      "VIOO    16.75%\n",
      "IJT     16.72%\n",
      "SLY     16.71%\n",
      "SLYG    16.53%\n",
      "OIH     16.29%\n",
      "IUSV    13.59%\n",
      "IVE     13.47%\n",
      "VOOV    13.41%\n",
      "SPYV    12.04%\n",
      "dtype: object\n",
      "\n",
      "Maximum Sharpe Portfolio:\n",
      "Sharpe Ratio: 0.7665\n",
      "\n",
      "Weights:\n",
      "VIOV     54.49%\n",
      "VIOG     32.81%\n",
      "PSCD     17.43%\n",
      "SPSM     16.66%\n",
      "FYX       8.61%\n",
      "IJT     -14.96%\n",
      "OIH     -15.04%\n",
      "Name: Maximum Sharpe Portfolio, dtype: object\n",
      "\n",
      "Results:\n",
      "Expected_Return        16.61%\n",
      "Expected Volatility    22.48%\n",
      "Sharpe_Ratio           0.7665\n",
      "Name: Results, dtype: object\n",
      "\n",
      "Long/Short Ratio:\n",
      "Portfolio weights sum: 100.0%\n",
      "Long weights sum: 130.0%\n",
      "Short weights sum: -30.0%\n"
     ]
    }
   ],
   "source": [
    "new_portfolio = strategy.run_strategy()"
   ]
  },
  {
   "cell_type": "code",
   "execution_count": 9,
   "id": "e8a8c002-7c43-423d-8f67-e2269fec9f56",
   "metadata": {
    "tags": []
   },
   "outputs": [
    {
     "data": {
      "text/plain": [
       "VIOV    0.5449\n",
       "VIOG    0.3281\n",
       "PSCD    0.1743\n",
       "SPSM    0.1666\n",
       "FYX     0.0861\n",
       "IJT    -0.1496\n",
       "OIH    -0.1504\n",
       "Name: Maximum Sharpe Portfolio, dtype: float64"
      ]
     },
     "execution_count": 9,
     "metadata": {},
     "output_type": "execute_result"
    }
   ],
   "source": [
    "new_portfolio"
   ]
  },
  {
   "cell_type": "markdown",
   "id": "fdfc8a83-30ca-4cf2-8356-806ad303bf76",
   "metadata": {},
   "source": [
    "## Current Portfolio"
   ]
  },
  {
   "cell_type": "code",
   "execution_count": 10,
   "id": "b07d554f-4696-4673-84c0-528c5e111ec2",
   "metadata": {
    "tags": []
   },
   "outputs": [
    {
     "data": {
      "text/html": [
       "<div>\n",
       "<style scoped>\n",
       "    .dataframe tbody tr th:only-of-type {\n",
       "        vertical-align: middle;\n",
       "    }\n",
       "\n",
       "    .dataframe tbody tr th {\n",
       "        vertical-align: top;\n",
       "    }\n",
       "\n",
       "    .dataframe thead th {\n",
       "        text-align: right;\n",
       "    }\n",
       "</style>\n",
       "<table border=\"1\" class=\"dataframe\">\n",
       "  <thead>\n",
       "    <tr style=\"text-align: right;\">\n",
       "      <th></th>\n",
       "      <th>pctOfPortfolio</th>\n",
       "      <th>quantity</th>\n",
       "      <th>positionType</th>\n",
       "    </tr>\n",
       "    <tr>\n",
       "      <th>symbolDescription</th>\n",
       "      <th></th>\n",
       "      <th></th>\n",
       "      <th></th>\n",
       "    </tr>\n",
       "  </thead>\n",
       "  <tbody>\n",
       "    <tr>\n",
       "      <th>OIH</th>\n",
       "      <td>-0.143620</td>\n",
       "      <td>-5</td>\n",
       "      <td>SHORT</td>\n",
       "    </tr>\n",
       "    <tr>\n",
       "      <th>IJT</th>\n",
       "      <td>-0.152696</td>\n",
       "      <td>-14</td>\n",
       "      <td>SHORT</td>\n",
       "    </tr>\n",
       "    <tr>\n",
       "      <th>VIOV</th>\n",
       "      <td>0.543875</td>\n",
       "      <td>68</td>\n",
       "      <td>LONG</td>\n",
       "    </tr>\n",
       "    <tr>\n",
       "      <th>PSCD</th>\n",
       "      <td>0.175593</td>\n",
       "      <td>20</td>\n",
       "      <td>LONG</td>\n",
       "    </tr>\n",
       "    <tr>\n",
       "      <th>VIOG</th>\n",
       "      <td>0.328792</td>\n",
       "      <td>35</td>\n",
       "      <td>LONG</td>\n",
       "    </tr>\n",
       "    <tr>\n",
       "      <th>FYX</th>\n",
       "      <td>0.088235</td>\n",
       "      <td>11</td>\n",
       "      <td>LONG</td>\n",
       "    </tr>\n",
       "    <tr>\n",
       "      <th>SPSM</th>\n",
       "      <td>0.164816</td>\n",
       "      <td>44</td>\n",
       "      <td>LONG</td>\n",
       "    </tr>\n",
       "  </tbody>\n",
       "</table>\n",
       "</div>"
      ],
      "text/plain": [
       "                   pctOfPortfolio  quantity positionType\n",
       "symbolDescription                                       \n",
       "OIH                     -0.143620        -5        SHORT\n",
       "IJT                     -0.152696       -14        SHORT\n",
       "VIOV                     0.543875        68         LONG\n",
       "PSCD                     0.175593        20         LONG\n",
       "VIOG                     0.328792        35         LONG\n",
       "FYX                      0.088235        11         LONG\n",
       "SPSM                     0.164816        44         LONG"
      ]
     },
     "execution_count": 10,
     "metadata": {},
     "output_type": "execute_result"
    }
   ],
   "source": [
    "# Get current portfolio\n",
    "current_portfolio = etrade.get_portfolio_data(account_id_key)[[\n",
    "    'pctOfPortfolio', 'quantity', 'positionType'\n",
    "]]\n",
    "current_portfolio"
   ]
  },
  {
   "cell_type": "code",
   "execution_count": 11,
   "id": "de4f804d-8c26-4789-aa98-856b7f150f2c",
   "metadata": {
    "tags": []
   },
   "outputs": [
    {
     "name": "stdout",
     "output_type": "stream",
     "text": [
      "\n",
      "Buying Power: $9,891.01\n"
     ]
    }
   ],
   "source": [
    "# Get buying power\n",
    "buying_power = etrade.get_buying_power(account_id_key, prints=prints)"
   ]
  },
  {
   "cell_type": "markdown",
   "id": "a57ce14d-0ab6-4160-b030-fbdd51d6dbe4",
   "metadata": {},
   "source": [
    "## Implement Strategy"
   ]
  },
  {
   "cell_type": "code",
   "execution_count": 12,
   "id": "b6911add-3bab-40f0-93d5-9ba689be6256",
   "metadata": {
    "tags": []
   },
   "outputs": [
    {
     "name": "stdout",
     "output_type": "stream",
     "text": [
      "\n",
      "Trade Instructions:\n",
      "VIOV     $5,379.48\n",
      "VIOG     $3,159.17\n",
      "PSCD     $1,736.80\n",
      "SPSM     $1,667.25\n",
      "FYX        $872.74\n",
      "OIH     $-1,420.55\n",
      "IJT     $-1,510.32\n",
      "Name: Trade Amounts, dtype: object\n",
      "\n",
      "Position Value: $9,884.57\n",
      "Leftover: $79.30\n",
      "\n",
      "VIOV     68\n",
      "VIOG     34\n",
      "PSCD     20\n",
      "SPSM     45\n",
      "FYX      11\n",
      "OIH      -5\n",
      "IJT     -14\n",
      "Name: Shares, dtype: object\n"
     ]
    }
   ],
   "source": [
    "# Calculate new portfolio shares\n",
    "new_portfolio_shares = execute.calculate_shares(new_portfolio, buying_power, prints=prints)"
   ]
  },
  {
   "cell_type": "code",
   "execution_count": 13,
   "id": "aa837896-a0c4-410c-bdb2-dbc751386cef",
   "metadata": {
    "tags": []
   },
   "outputs": [
    {
     "name": "stdout",
     "output_type": "stream",
     "text": [
      "\n",
      "Previewing trades...\n",
      "SELL -1 shares of VIOG\n",
      "BUY 1 shares of SPSM\n"
     ]
    }
   ],
   "source": [
    "# Preview or execute trades\n",
    "print('')\n",
    "if preview:\n",
    "    print('Previewing trades...')\n",
    "else:\n",
    "    print('Executing trades...')\n",
    "place_order = execute.execute_trades(\n",
    "    current_portfolio, new_portfolio_shares, account_id_key, preview, prints\n",
    ")"
   ]
  },
  {
   "cell_type": "code",
   "execution_count": 14,
   "id": "7ddb0a0b-48e9-4e62-9a43-1e93d0db1bb6",
   "metadata": {
    "tags": []
   },
   "outputs": [
    {
     "data": {
      "text/html": [
       "<div>\n",
       "<style scoped>\n",
       "    .dataframe tbody tr th:only-of-type {\n",
       "        vertical-align: middle;\n",
       "    }\n",
       "\n",
       "    .dataframe tbody tr th {\n",
       "        vertical-align: top;\n",
       "    }\n",
       "\n",
       "    .dataframe thead th {\n",
       "        text-align: right;\n",
       "    }\n",
       "</style>\n",
       "<table border=\"1\" class=\"dataframe\">\n",
       "  <thead>\n",
       "    <tr style=\"text-align: right;\">\n",
       "      <th></th>\n",
       "      <th>orderAction</th>\n",
       "      <th>priceType</th>\n",
       "      <th>quantity</th>\n",
       "      <th>orderTerm</th>\n",
       "      <th>marketSession</th>\n",
       "    </tr>\n",
       "    <tr>\n",
       "      <th>symbol</th>\n",
       "      <th></th>\n",
       "      <th></th>\n",
       "      <th></th>\n",
       "      <th></th>\n",
       "      <th></th>\n",
       "    </tr>\n",
       "  </thead>\n",
       "  <tbody>\n",
       "    <tr>\n",
       "      <th>VIOG</th>\n",
       "      <td>SELL</td>\n",
       "      <td>MARKET</td>\n",
       "      <td>1</td>\n",
       "      <td>GOOD_FOR_DAY</td>\n",
       "      <td>REGULAR</td>\n",
       "    </tr>\n",
       "    <tr>\n",
       "      <th>SPSM</th>\n",
       "      <td>BUY</td>\n",
       "      <td>MARKET</td>\n",
       "      <td>1</td>\n",
       "      <td>GOOD_FOR_DAY</td>\n",
       "      <td>REGULAR</td>\n",
       "    </tr>\n",
       "  </tbody>\n",
       "</table>\n",
       "</div>"
      ],
      "text/plain": [
       "       orderAction priceType  quantity     orderTerm marketSession\n",
       "symbol                                                            \n",
       "VIOG          SELL    MARKET         1  GOOD_FOR_DAY       REGULAR\n",
       "SPSM           BUY    MARKET         1  GOOD_FOR_DAY       REGULAR"
      ]
     },
     "execution_count": 14,
     "metadata": {},
     "output_type": "execute_result"
    }
   ],
   "source": [
    "place_order"
   ]
  },
  {
   "cell_type": "code",
   "execution_count": null,
   "id": "1c8bb0c2-0504-47a7-8ac4-0bb7897dd47c",
   "metadata": {},
   "outputs": [],
   "source": []
  }
 ],
 "metadata": {
  "kernelspec": {
   "display_name": "Python 3 (ipykernel)",
   "language": "python",
   "name": "python3"
  },
  "language_info": {
   "codemirror_mode": {
    "name": "ipython",
    "version": 3
   },
   "file_extension": ".py",
   "mimetype": "text/x-python",
   "name": "python",
   "nbconvert_exporter": "python",
   "pygments_lexer": "ipython3",
   "version": "3.11.0"
  }
 },
 "nbformat": 4,
 "nbformat_minor": 5
}
