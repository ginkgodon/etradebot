{
 "cells": [
  {
   "cell_type": "code",
   "execution_count": 1,
   "id": "b1e09dbb-96f6-4171-9bcf-f7c0f34fa8b5",
   "metadata": {
    "tags": []
   },
   "outputs": [],
   "source": [
    "from strategies.strategy import Strategy"
   ]
  },
  {
   "cell_type": "code",
   "execution_count": 2,
   "id": "80e92b3b-e28d-4d0e-b42f-d152d138171a",
   "metadata": {
    "tags": []
   },
   "outputs": [],
   "source": [
    "strategy = Strategy(prints=True, strategy_name='example_strategy')"
   ]
  },
  {
   "cell_type": "code",
   "execution_count": 3,
   "id": "8b665b48-5b46-46e9-a081-2c6cc60ca816",
   "metadata": {
    "tags": []
   },
   "outputs": [
    {
     "name": "stdout",
     "output_type": "stream",
     "text": [
      "------------------------------------\n",
      "Risk Free Rate: 3.4%\n",
      "\n",
      "Maximum Sharpe Portfolio:\n",
      "Sharpe Ratio: 0.6125\n",
      "\n",
      "Weights:\n",
      "SPY    30.00%\n",
      "HYG    30.00%\n",
      "TLT    16.95%\n",
      "TIP    16.69%\n",
      "VNQ     5.72%\n",
      "Name: Maximum Sharpe Portfolio, dtype: object\n",
      "\n",
      "Results:\n",
      "Expected_Return         8.78%\n",
      "Expected Volatility     8.78%\n",
      "Sharpe_Ratio           0.6125\n",
      "Name: Results, dtype: object\n",
      "\n",
      "Long/Short Ratio:\n",
      "Portfolio weights sum: 99.36%\n",
      "Long weights sum: 99.36%\n",
      "Short weights sum: 0.0%\n"
     ]
    }
   ],
   "source": [
    "new_portfolio = strategy.run_strategy()"
   ]
  },
  {
   "cell_type": "code",
   "execution_count": null,
   "id": "65cf6766-3e4d-4e79-980e-dffeb9e636b8",
   "metadata": {},
   "outputs": [],
   "source": []
  }
 ],
 "metadata": {
  "kernelspec": {
   "display_name": "Python 3 (ipykernel)",
   "language": "python",
   "name": "python3"
  },
  "language_info": {
   "codemirror_mode": {
    "name": "ipython",
    "version": 3
   },
   "file_extension": ".py",
   "mimetype": "text/x-python",
   "name": "python",
   "nbconvert_exporter": "python",
   "pygments_lexer": "ipython3",
   "version": "3.11.0"
  }
 },
 "nbformat": 4,
 "nbformat_minor": 5
}
